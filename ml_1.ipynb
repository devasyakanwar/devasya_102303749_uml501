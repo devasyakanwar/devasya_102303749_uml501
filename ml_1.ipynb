{
  "nbformat": 4,
  "nbformat_minor": 0,
  "metadata": {
    "colab": {
      "provenance": []
    },
    "kernelspec": {
      "name": "python3",
      "display_name": "Python 3"
    },
    "language_info": {
      "name": "python"
    }
  },
  "cells": [
    {
      "cell_type": "code",
      "execution_count": 9,
      "metadata": {
        "id": "6Rsb_fbB10UZ"
      },
      "outputs": [],
      "source": [
        "import numpy as np"
      ]
    },
    {
      "cell_type": "code",
      "source": [
        "a=np.array([1,2,3,6,4,5])\n",
        "rev_a=a[::-1]\n",
        "print(rev_a)"
      ],
      "metadata": {
        "colab": {
          "base_uri": "https://localhost:8080/"
        },
        "id": "uRN1q65U13FG",
        "outputId": "efb067e3-648d-4a7f-8e4d-3b0e45ba9179"
      },
      "execution_count": 10,
      "outputs": [
        {
          "output_type": "stream",
          "name": "stdout",
          "text": [
            "[5 4 6 3 2 1]\n"
          ]
        }
      ]
    },
    {
      "cell_type": "code",
      "source": [
        "b=np.array([[1,2,3],[2,4,5],[1,2,3]])\n",
        "b_flatten=b.flatten()\n",
        "print(b_flatten)"
      ],
      "metadata": {
        "colab": {
          "base_uri": "https://localhost:8080/"
        },
        "id": "rjjmpDZK2Zo2",
        "outputId": "4d72fd3f-d3f4-4fba-e923-592ac8c31cb4"
      },
      "execution_count": 11,
      "outputs": [
        {
          "output_type": "stream",
          "name": "stdout",
          "text": [
            "[1 2 3 2 4 5 1 2 3]\n"
          ]
        }
      ]
    },
    {
      "cell_type": "code",
      "source": [
        "arr1=np.array([[1,2],[3,4]])\n",
        "arr2=np.array([[1,2],[3,4]])\n",
        "print(arr1==arr2)\n"
      ],
      "metadata": {
        "colab": {
          "base_uri": "https://localhost:8080/"
        },
        "id": "zTt8dlHh2yY1",
        "outputId": "cf8f4078-211d-46b0-8820-cca419a16e01"
      },
      "execution_count": 12,
      "outputs": [
        {
          "output_type": "stream",
          "name": "stdout",
          "text": [
            "[[ True  True]\n",
            " [ True  True]]\n"
          ]
        }
      ]
    },
    {
      "cell_type": "code",
      "source": [
        "x=np.array([1,2,3,4,5,1,2,1,1,1])\n",
        "y=np.array([1,1,1,2,3,4,2,4,3,3])\n",
        "np.bincount(x).argmax()\n",
        "\n",
        "#for y\n",
        "valy,cnty=np.unique(y,return_counts=True)\n",
        "most_y=valy[np.argmax(cnty)]\n",
        "print(most_y)\n",
        "index=np.where(y==most_y)\n",
        "print(index)"
      ],
      "metadata": {
        "colab": {
          "base_uri": "https://localhost:8080/"
        },
        "id": "O2merBXY3Ko0",
        "outputId": "229e93ab-3d46-4cc7-b695-aa3b208e4217"
      },
      "execution_count": 16,
      "outputs": [
        {
          "output_type": "stream",
          "name": "stdout",
          "text": [
            "1\n",
            "(array([0, 1, 2]),)\n"
          ]
        }
      ]
    },
    {
      "cell_type": "code",
      "source": [
        "gfg=np.matrix('[4,1,9;12,3,1;4,5,6]')\n",
        "sum_gfg=np.sum(gfg)\n",
        "print(sum_gfg)\n",
        "row_sum=np.sum(gfg,1)\n",
        "col_sum=np.sum(gfg,0)\n",
        "print(row_sum)\n",
        "print(col_sum)"
      ],
      "metadata": {
        "colab": {
          "base_uri": "https://localhost:8080/"
        },
        "id": "Z7O1OLEC5EWG",
        "outputId": "82ee22c2-3243-4e1d-a1ba-bbe0233ebcce"
      },
      "execution_count": 14,
      "outputs": [
        {
          "output_type": "stream",
          "name": "stdout",
          "text": [
            "45\n",
            "[[14]\n",
            " [16]\n",
            " [15]]\n",
            "[[20  9 16]]\n"
          ]
        }
      ]
    },
    {
      "cell_type": "code",
      "source": [
        "n_arr=np.array([[55,25,15],[30,44,2],[11,45,77]])\n",
        "sum_diag=np.trace(n_arr)\n",
        "print(sum_diag)\n",
        "eigenval,eigenvec=np.linalg.eig(n_arr)\n",
        "print(eigenval)\n",
        "print(eigenvec)\n",
        "inv=np.linalg.inv(n_arr)\n",
        "inv\n",
        "det=np.linalg.det(n_arr)\n",
        "det"
      ],
      "metadata": {
        "id": "sFpP8QJT55Sk",
        "colab": {
          "base_uri": "https://localhost:8080/"
        },
        "outputId": "3122bd8f-dd82-41b4-d2d8-d1273efc9cd2"
      },
      "execution_count": 17,
      "outputs": [
        {
          "output_type": "stream",
          "name": "stdout",
          "text": [
            "176\n",
            "[98.16835147 28.097044   49.73460452]\n",
            "[[ 0.4574917   0.34637121 -0.15017693]\n",
            " [ 0.28447814 -0.72784061 -0.4852124 ]\n",
            " [ 0.84248058  0.59184038  0.8614034 ]]\n"
          ]
        },
        {
          "output_type": "execute_result",
          "data": {
            "text/plain": [
              "np.float64(137180.0000000001)"
            ]
          },
          "metadata": {},
          "execution_count": 17
        }
      ]
    },
    {
      "cell_type": "code",
      "source": [
        "p1=np.array([[1,2],[2,3]])\n",
        "q1=np.array([[4,5],[6,7]])\n",
        "p2=np.array([[1,2],[2,3],[4,5]])\n",
        "q2=np.array([[4,5,1],[6,7,2]])\n",
        "np.dot(p1,q1)\n",
        "np.dot(p2,q2)\n",
        "\n",
        "cov1=np.cov(p1.flatten(),q1.flatten())\n",
        "print(cov1)\n",
        "cov2=np.cov(p2.flatten(),q2.flatten())\n",
        "cov2\n"
      ],
      "metadata": {
        "colab": {
          "base_uri": "https://localhost:8080/"
        },
        "id": "KbwOXRJdGf1o",
        "outputId": "a720ae20-2f36-4a92-823e-b2547950fc79"
      },
      "execution_count": 18,
      "outputs": [
        {
          "output_type": "stream",
          "name": "stdout",
          "text": [
            "[[0.66666667 1.        ]\n",
            " [1.         1.66666667]]\n"
          ]
        },
        {
          "output_type": "execute_result",
          "data": {
            "text/plain": [
              "array([[2.16666667, 0.23333333],\n",
              "       [0.23333333, 5.36666667]])"
            ]
          },
          "metadata": {},
          "execution_count": 18
        }
      ]
    },
    {
      "cell_type": "code",
      "source": [
        "h=np.array([[2,3,4],[3,2,9]])\n",
        "j=np.array([[1,5,0],[5,10,3]])\n",
        "inner=np.inner(h,j)\n",
        "print(inner)\n",
        "outer=np.outer(h.flatten(),j.flatten())\n",
        "print(outer)\n",
        "cp=np.array(np.meshgrid(x.flatten(), y.flatten())).T.reshape(-1, 2)\n",
        "cp\n"
      ],
      "metadata": {
        "colab": {
          "base_uri": "https://localhost:8080/"
        },
        "id": "eRPezo6uHZtZ",
        "outputId": "f8fcdd30-b3ba-4345-c9a6-19f39975558c"
      },
      "execution_count": 24,
      "outputs": [
        {
          "output_type": "stream",
          "name": "stdout",
          "text": [
            "[[17 52]\n",
            " [13 62]]\n",
            "[[ 2 10  0 10 20  6]\n",
            " [ 3 15  0 15 30  9]\n",
            " [ 4 20  0 20 40 12]\n",
            " [ 3 15  0 15 30  9]\n",
            " [ 2 10  0 10 20  6]\n",
            " [ 9 45  0 45 90 27]]\n"
          ]
        },
        {
          "output_type": "execute_result",
          "data": {
            "text/plain": [
              "array([[1, 1],\n",
              "       [1, 1],\n",
              "       [1, 1],\n",
              "       [1, 2],\n",
              "       [1, 3],\n",
              "       [1, 4],\n",
              "       [1, 2],\n",
              "       [1, 4],\n",
              "       [1, 3],\n",
              "       [1, 3],\n",
              "       [2, 1],\n",
              "       [2, 1],\n",
              "       [2, 1],\n",
              "       [2, 2],\n",
              "       [2, 3],\n",
              "       [2, 4],\n",
              "       [2, 2],\n",
              "       [2, 4],\n",
              "       [2, 3],\n",
              "       [2, 3],\n",
              "       [3, 1],\n",
              "       [3, 1],\n",
              "       [3, 1],\n",
              "       [3, 2],\n",
              "       [3, 3],\n",
              "       [3, 4],\n",
              "       [3, 2],\n",
              "       [3, 4],\n",
              "       [3, 3],\n",
              "       [3, 3],\n",
              "       [4, 1],\n",
              "       [4, 1],\n",
              "       [4, 1],\n",
              "       [4, 2],\n",
              "       [4, 3],\n",
              "       [4, 4],\n",
              "       [4, 2],\n",
              "       [4, 4],\n",
              "       [4, 3],\n",
              "       [4, 3],\n",
              "       [5, 1],\n",
              "       [5, 1],\n",
              "       [5, 1],\n",
              "       [5, 2],\n",
              "       [5, 3],\n",
              "       [5, 4],\n",
              "       [5, 2],\n",
              "       [5, 4],\n",
              "       [5, 3],\n",
              "       [5, 3],\n",
              "       [1, 1],\n",
              "       [1, 1],\n",
              "       [1, 1],\n",
              "       [1, 2],\n",
              "       [1, 3],\n",
              "       [1, 4],\n",
              "       [1, 2],\n",
              "       [1, 4],\n",
              "       [1, 3],\n",
              "       [1, 3],\n",
              "       [2, 1],\n",
              "       [2, 1],\n",
              "       [2, 1],\n",
              "       [2, 2],\n",
              "       [2, 3],\n",
              "       [2, 4],\n",
              "       [2, 2],\n",
              "       [2, 4],\n",
              "       [2, 3],\n",
              "       [2, 3],\n",
              "       [1, 1],\n",
              "       [1, 1],\n",
              "       [1, 1],\n",
              "       [1, 2],\n",
              "       [1, 3],\n",
              "       [1, 4],\n",
              "       [1, 2],\n",
              "       [1, 4],\n",
              "       [1, 3],\n",
              "       [1, 3],\n",
              "       [1, 1],\n",
              "       [1, 1],\n",
              "       [1, 1],\n",
              "       [1, 2],\n",
              "       [1, 3],\n",
              "       [1, 4],\n",
              "       [1, 2],\n",
              "       [1, 4],\n",
              "       [1, 3],\n",
              "       [1, 3],\n",
              "       [1, 1],\n",
              "       [1, 1],\n",
              "       [1, 1],\n",
              "       [1, 2],\n",
              "       [1, 3],\n",
              "       [1, 4],\n",
              "       [1, 2],\n",
              "       [1, 4],\n",
              "       [1, 3],\n",
              "       [1, 3]])"
            ]
          },
          "metadata": {},
          "execution_count": 24
        }
      ]
    },
    {
      "cell_type": "code",
      "source": [
        "array = np.array([[1,-2,3],[-4,5,-6]])\n",
        "abs_arr=np.abs(array)\n",
        "print(abs_arr)\n",
        "perc=np.percentile(array.flatten(),[25,50,75])\n",
        "print(perc)\n",
        "perc_row=np.percentile(array,[25,50,75],axis=0)\n",
        "print(perc_row)\n",
        "perc_col=np.percentile(array,[25,50,75],axis=1)\n",
        "print(perc_col)"
      ],
      "metadata": {
        "colab": {
          "base_uri": "https://localhost:8080/"
        },
        "id": "rXdvG67YIxJU",
        "outputId": "a9af7518-031b-49d8-c4c7-ca29273f08d9"
      },
      "execution_count": 25,
      "outputs": [
        {
          "output_type": "stream",
          "name": "stdout",
          "text": [
            "[[1 2 3]\n",
            " [4 5 6]]\n",
            "[-3.5 -0.5  2.5]\n",
            "[[-2.75 -0.25 -3.75]\n",
            " [-1.5   1.5  -1.5 ]\n",
            " [-0.25  3.25  0.75]]\n",
            "[[-0.5 -5. ]\n",
            " [ 1.  -4. ]\n",
            " [ 2.   0.5]]\n"
          ]
        }
      ]
    },
    {
      "cell_type": "code",
      "source": [
        "mean_f=np.mean(array.flatten())\n",
        "median=np.median(array.flatten())\n",
        "std=np.std(array.flatten())\n",
        "\n",
        "mean_c=np.mean(array,axis=0)\n",
        "median_c=np.median(array,axis=0)\n",
        "std_c=np.std(array,axis=0)"
      ],
      "metadata": {
        "id": "R-mK8HyIKUVB"
      },
      "execution_count": 27,
      "outputs": []
    },
    {
      "cell_type": "code",
      "source": [
        "a = np.array([-1.8, -1.6, -0.5, 0.5, 1.6, 1.8, 3.0])\n",
        "floor=np.floor(a)\n",
        "ceil=np.ceil(a)\n",
        "trun=np.trunc(a)\n",
        "round=np.round(a)\n",
        "floor,ceil,trun,round"
      ],
      "metadata": {
        "colab": {
          "base_uri": "https://localhost:8080/"
        },
        "id": "QYB8XGNPLCLq",
        "outputId": "0f10d812-88fa-4560-9878-f13a8cf4bcd2"
      },
      "execution_count": 28,
      "outputs": [
        {
          "output_type": "execute_result",
          "data": {
            "text/plain": [
              "(array([-2., -2., -1.,  0.,  1.,  1.,  3.]),\n",
              " array([-1., -1., -0.,  1.,  2.,  2.,  3.]),\n",
              " array([-1., -1., -0.,  0.,  1.,  1.,  3.]),\n",
              " array([-2., -2., -0.,  0.,  2.,  2.,  3.]))"
            ]
          },
          "metadata": {},
          "execution_count": 28
        }
      ]
    },
    {
      "cell_type": "code",
      "source": [
        "arr1=np.array([10,52,62,16,16,54,453])\n",
        "sort=np.sort(arr1)\n",
        "sort_index=np.argsort(arr1)\n",
        "small=np.sort(arr1)[:4]\n",
        "large=np.sort(array)[-5:]\n",
        "sort,sort_index,small,large"
      ],
      "metadata": {
        "colab": {
          "base_uri": "https://localhost:8080/"
        },
        "id": "mg9acSvqLQMJ",
        "outputId": "f9c550da-733b-4a27-cac9-d4416da256b1"
      },
      "execution_count": 29,
      "outputs": [
        {
          "output_type": "execute_result",
          "data": {
            "text/plain": [
              "(array([ 10,  16,  16,  52,  54,  62, 453]),\n",
              " array([0, 3, 4, 1, 5, 2, 6]),\n",
              " array([10, 16, 16, 52]),\n",
              " array([[-2,  1,  3],\n",
              "        [-6, -4,  5]]))"
            ]
          },
          "metadata": {},
          "execution_count": 29
        }
      ]
    },
    {
      "cell_type": "code",
      "source": [
        "array = np.array([1.0, 1.2, 2.2, 2.0, 3.0, 2.0])\n",
        "integers=array[array==array.astype(int)]\n",
        "floats=array[array!=array.astype(int)]\n",
        "\n",
        "integers,floats\n"
      ],
      "metadata": {
        "colab": {
          "base_uri": "https://localhost:8080/"
        },
        "id": "W7egf3_5L13P",
        "outputId": "91e58da2-69f2-4d9f-dfbf-e017218d72fa"
      },
      "execution_count": 32,
      "outputs": [
        {
          "output_type": "execute_result",
          "data": {
            "text/plain": [
              "(array([1., 2., 3., 2.]), array([1.2, 2.2]))"
            ]
          },
          "metadata": {},
          "execution_count": 32
        }
      ]
    },
    {
      "cell_type": "code",
      "source": [],
      "metadata": {
        "id": "55HU05KFMDCw"
      },
      "execution_count": null,
      "outputs": []
    }
  ]
}